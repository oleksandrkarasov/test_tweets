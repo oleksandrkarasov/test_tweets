{
 "cells": [
  {
   "cell_type": "code",
   "execution_count": 1,
   "id": "a13d165b-6e13-4b45-bbf2-30f26fbb7328",
   "metadata": {},
   "outputs": [],
   "source": [
    "# Packages for data analysis\n",
    "import pandas as pd\n",
    "import numpy as np"
   ]
  },
  {
   "cell_type": "code",
   "execution_count": 2,
   "id": "dc61bb49-1025-4857-91c5-209d086c92c0",
   "metadata": {},
   "outputs": [
    {
     "name": "stdout",
     "output_type": "stream",
     "text": [
      "Requirement already satisfied: tweet-preprocessor in /usr/local/lib/python3.9/dist-packages (0.6.0)\n",
      "\u001b[33mWARNING: Running pip as the 'root' user can result in broken permissions and conflicting behaviour with the system package manager. It is recommended to use a virtual environment instead: https://pip.pypa.io/warnings/venv\u001b[0m\u001b[33m\n",
      "\u001b[0mNote: you may need to restart the kernel to use updated packages.\n"
     ]
    }
   ],
   "source": [
    "pip install tweet-preprocessor"
   ]
  },
  {
   "cell_type": "code",
   "execution_count": 2,
   "id": "8984d9c5-cc82-48b5-afaf-00a994a21fab",
   "metadata": {},
   "outputs": [
    {
     "name": "stdout",
     "output_type": "stream",
     "text": [
      "(100, 18)\n"
     ]
    },
    {
     "data": {
      "text/html": [
       "<div>\n",
       "<style scoped>\n",
       "    .dataframe tbody tr th:only-of-type {\n",
       "        vertical-align: middle;\n",
       "    }\n",
       "\n",
       "    .dataframe tbody tr th {\n",
       "        vertical-align: top;\n",
       "    }\n",
       "\n",
       "    .dataframe thead th {\n",
       "        text-align: right;\n",
       "    }\n",
       "</style>\n",
       "<table border=\"1\" class=\"dataframe\">\n",
       "  <thead>\n",
       "    <tr style=\"text-align: right;\">\n",
       "      <th></th>\n",
       "      <th>Column1</th>\n",
       "      <th>...1</th>\n",
       "      <th>Row.names</th>\n",
       "      <th>rowid</th>\n",
       "      <th>lat2</th>\n",
       "      <th>lon2</th>\n",
       "      <th>user_id</th>\n",
       "      <th>Column2</th>\n",
       "      <th>text2</th>\n",
       "      <th>retweeted</th>\n",
       "      <th>lang</th>\n",
       "      <th>id</th>\n",
       "      <th>created_at</th>\n",
       "      <th>noChar</th>\n",
       "      <th>iso_lang_1</th>\n",
       "      <th>prob_1</th>\n",
       "      <th>text1</th>\n",
       "      <th>classname</th>\n",
       "    </tr>\n",
       "  </thead>\n",
       "  <tbody>\n",
       "    <tr>\n",
       "      <th>0</th>\n",
       "      <td>4</td>\n",
       "      <td>53090</td>\n",
       "      <td>93493</td>\n",
       "      <td>319774</td>\n",
       "      <td>49.302954</td>\n",
       "      <td>7.466072</td>\n",
       "      <td>434326976</td>\n",
       "      <td>NaN</td>\n",
       "      <td>Not good, not bad...disappointing</td>\n",
       "      <td>False</td>\n",
       "      <td>en</td>\n",
       "      <td>1,19E+18</td>\n",
       "      <td>29.10.2019 16:55</td>\n",
       "      <td>34</td>\n",
       "      <td>en</td>\n",
       "      <td>0.881157</td>\n",
       "      <td>Not good, not bad...disappointing\\r\\n#MartinaP...</td>\n",
       "      <td>home</td>\n",
       "    </tr>\n",
       "    <tr>\n",
       "      <th>1</th>\n",
       "      <td>6</td>\n",
       "      <td>4340</td>\n",
       "      <td>117041</td>\n",
       "      <td>460051</td>\n",
       "      <td>49.641076</td>\n",
       "      <td>6.06006735</td>\n",
       "      <td>603021612</td>\n",
       "      <td>NaN</td>\n",
       "      <td>thats so poopoo</td>\n",
       "      <td>False</td>\n",
       "      <td>en</td>\n",
       "      <td>3,30E+17</td>\n",
       "      <td>03.05.2013 16:03</td>\n",
       "      <td>15</td>\n",
       "      <td>en</td>\n",
       "      <td>0.862470</td>\n",
       "      <td>thats so poopoo</td>\n",
       "      <td>other</td>\n",
       "    </tr>\n",
       "    <tr>\n",
       "      <th>2</th>\n",
       "      <td>8</td>\n",
       "      <td>9104</td>\n",
       "      <td>145546</td>\n",
       "      <td>679738</td>\n",
       "      <td>49.611273</td>\n",
       "      <td>6.12770012</td>\n",
       "      <td>1298568337</td>\n",
       "      <td>NaN</td>\n",
       "      <td>Monday, June , : Spaghetti Bolognese</td>\n",
       "      <td>False</td>\n",
       "      <td>it</td>\n",
       "      <td>3,42E+17</td>\n",
       "      <td>03.06.2013 11:22</td>\n",
       "      <td>37</td>\n",
       "      <td>en</td>\n",
       "      <td>0.914869</td>\n",
       "      <td>Monday, June 3, 2013: Spaghetti Bolognese http...</td>\n",
       "      <td>home</td>\n",
       "    </tr>\n",
       "    <tr>\n",
       "      <th>3</th>\n",
       "      <td>24</td>\n",
       "      <td>23743</td>\n",
       "      <td>25333</td>\n",
       "      <td>105500</td>\n",
       "      <td>49.658195</td>\n",
       "      <td>6.14052043</td>\n",
       "      <td>28345806</td>\n",
       "      <td>NaN</td>\n",
       "      <td>Where are the people who left on the boat?? Do...</td>\n",
       "      <td>False</td>\n",
       "      <td>en</td>\n",
       "      <td>5,63E+17</td>\n",
       "      <td>05.02.2015 21:53</td>\n",
       "      <td>70</td>\n",
       "      <td>en</td>\n",
       "      <td>0.964202</td>\n",
       "      <td>Where are the people who left on the boat?? Do...</td>\n",
       "      <td>home</td>\n",
       "    </tr>\n",
       "    <tr>\n",
       "      <th>4</th>\n",
       "      <td>38</td>\n",
       "      <td>55020</td>\n",
       "      <td>97806</td>\n",
       "      <td>347149</td>\n",
       "      <td>63.833300</td>\n",
       "      <td>20.25</td>\n",
       "      <td>456045381</td>\n",
       "      <td>NaN</td>\n",
       "      <td>Christmas cosiness. Merry very. |</td>\n",
       "      <td>False</td>\n",
       "      <td>sv</td>\n",
       "      <td>8,13E+17</td>\n",
       "      <td>24.12.2016 21:21</td>\n",
       "      <td>34</td>\n",
       "      <td>en</td>\n",
       "      <td>0.924872</td>\n",
       "      <td>Christmas cosiness. Merry very. | #christmasev...</td>\n",
       "      <td>home</td>\n",
       "    </tr>\n",
       "  </tbody>\n",
       "</table>\n",
       "</div>"
      ],
      "text/plain": [
       "   Column1   ...1  Row.names   rowid       lat2        lon2     user_id  \\\n",
       "0        4  53090      93493  319774  49.302954    7.466072   434326976   \n",
       "1        6   4340     117041  460051  49.641076  6.06006735   603021612   \n",
       "2        8   9104     145546  679738  49.611273  6.12770012  1298568337   \n",
       "3       24  23743      25333  105500  49.658195  6.14052043    28345806   \n",
       "4       38  55020      97806  347149  63.833300       20.25   456045381   \n",
       "\n",
       "   Column2                                              text2  retweeted lang  \\\n",
       "0      NaN                  Not good, not bad...disappointing      False   en   \n",
       "1      NaN                                    thats so poopoo      False   en   \n",
       "2      NaN               Monday, June , : Spaghetti Bolognese      False   it   \n",
       "3      NaN  Where are the people who left on the boat?? Do...      False   en   \n",
       "4      NaN                  Christmas cosiness. Merry very. |      False   sv   \n",
       "\n",
       "         id        created_at  noChar iso_lang_1    prob_1  \\\n",
       "0  1,19E+18  29.10.2019 16:55      34         en  0.881157   \n",
       "1  3,30E+17  03.05.2013 16:03      15         en  0.862470   \n",
       "2  3,42E+17  03.06.2013 11:22      37         en  0.914869   \n",
       "3  5,63E+17  05.02.2015 21:53      70         en  0.964202   \n",
       "4  8,13E+17  24.12.2016 21:21      34         en  0.924872   \n",
       "\n",
       "                                               text1 classname  \n",
       "0  Not good, not bad...disappointing\\r\\n#MartinaP...      home  \n",
       "1                                    thats so poopoo     other  \n",
       "2  Monday, June 3, 2013: Spaghetti Bolognese http...      home  \n",
       "3  Where are the people who left on the boat?? Do...      home  \n",
       "4  Christmas cosiness. Merry very. | #christmasev...      home  "
      ]
     },
     "execution_count": 2,
     "metadata": {},
     "output_type": "execute_result"
    }
   ],
   "source": [
    "df=pd.read_csv('data/100tweets.csv', sep=';')\n",
    "print(df.shape)\n",
    "df.head()"
   ]
  },
  {
   "cell_type": "code",
   "execution_count": 4,
   "id": "e87def54-c368-4f10-bcba-448781332d37",
   "metadata": {},
   "outputs": [],
   "source": [
    "import preprocessor as prep"
   ]
  },
  {
   "cell_type": "code",
   "execution_count": 5,
   "id": "f5c57c8b-f2fb-41ac-921d-89fcbf2ecf8b",
   "metadata": {},
   "outputs": [],
   "source": [
    "## Set options for the tweet-preprocessor\n",
    "prep.set_options(prep.OPT.URL, prep.OPT.RESERVED, prep.OPT.EMOJI, prep.OPT.SMILEY)\n",
    "\n",
    "## Clean text and remove #,@ symbols\n",
    "def clean_tweet(text):\n",
    "    text = prep.clean(text)\n",
    "    table = str.maketrans('','','#@')\n",
    "    return text.translate(table)"
   ]
  },
  {
   "cell_type": "code",
   "execution_count": 6,
   "id": "ecabbd81-8954-4b6d-a93c-ceea7214a581",
   "metadata": {},
   "outputs": [],
   "source": [
    "df['text_processed'] = df['text1'].apply(lambda x: clean_tweet(x))"
   ]
  },
  {
   "cell_type": "code",
   "execution_count": 7,
   "id": "f3838689-1d2b-4d25-a381-6632c32f46ba",
   "metadata": {},
   "outputs": [
    {
     "name": "stdout",
     "output_type": "stream",
     "text": [
      "(100, 19)\n"
     ]
    },
    {
     "data": {
      "text/html": [
       "<div>\n",
       "<style scoped>\n",
       "    .dataframe tbody tr th:only-of-type {\n",
       "        vertical-align: middle;\n",
       "    }\n",
       "\n",
       "    .dataframe tbody tr th {\n",
       "        vertical-align: top;\n",
       "    }\n",
       "\n",
       "    .dataframe thead th {\n",
       "        text-align: right;\n",
       "    }\n",
       "</style>\n",
       "<table border=\"1\" class=\"dataframe\">\n",
       "  <thead>\n",
       "    <tr style=\"text-align: right;\">\n",
       "      <th></th>\n",
       "      <th>Column1</th>\n",
       "      <th>...1</th>\n",
       "      <th>Row.names</th>\n",
       "      <th>rowid</th>\n",
       "      <th>lat2</th>\n",
       "      <th>lon2</th>\n",
       "      <th>user_id</th>\n",
       "      <th>Column2</th>\n",
       "      <th>text2</th>\n",
       "      <th>retweeted</th>\n",
       "      <th>lang</th>\n",
       "      <th>id</th>\n",
       "      <th>created_at</th>\n",
       "      <th>noChar</th>\n",
       "      <th>iso_lang_1</th>\n",
       "      <th>prob_1</th>\n",
       "      <th>text1</th>\n",
       "      <th>classname</th>\n",
       "      <th>text_processed</th>\n",
       "    </tr>\n",
       "  </thead>\n",
       "  <tbody>\n",
       "    <tr>\n",
       "      <th>0</th>\n",
       "      <td>0</td>\n",
       "      <td>24121</td>\n",
       "      <td>26215</td>\n",
       "      <td>108414</td>\n",
       "      <td>51.329654</td>\n",
       "      <td>12.373450300000002</td>\n",
       "      <td>29430823</td>\n",
       "      <td>NaN</td>\n",
       "      <td>(Senior) Digital Product Designer in</td>\n",
       "      <td>False</td>\n",
       "      <td>ca</td>\n",
       "      <td>1,18E+18</td>\n",
       "      <td>26.09.2019 12:55</td>\n",
       "      <td>37</td>\n",
       "      <td>en</td>\n",
       "      <td>0.828701</td>\n",
       "      <td>(Senior) Digital Product Designer in #Leipzig ...</td>\n",
       "      <td>work</td>\n",
       "      <td>(Senior) Digital Product Designer in Leipzig (...</td>\n",
       "    </tr>\n",
       "    <tr>\n",
       "      <th>1</th>\n",
       "      <td>1</td>\n",
       "      <td>5037</td>\n",
       "      <td>120680</td>\n",
       "      <td>485238</td>\n",
       "      <td>52.308321</td>\n",
       "      <td>4.76523399</td>\n",
       "      <td>632420479</td>\n",
       "      <td>NaN</td>\n",
       "      <td>Jugging down my nd Liter of coffee for today. ...</td>\n",
       "      <td>False</td>\n",
       "      <td>en</td>\n",
       "      <td>3,27E+17</td>\n",
       "      <td>24.04.2013 14:25</td>\n",
       "      <td>57</td>\n",
       "      <td>en</td>\n",
       "      <td>0.965668</td>\n",
       "      <td>Jugging down my 2nd Liter of coffee for today....</td>\n",
       "      <td>transport</td>\n",
       "      <td>Jugging down my 2nd Liter of coffee for today....</td>\n",
       "    </tr>\n",
       "    <tr>\n",
       "      <th>2</th>\n",
       "      <td>2</td>\n",
       "      <td>12531</td>\n",
       "      <td>156862</td>\n",
       "      <td>755079</td>\n",
       "      <td>49.104809</td>\n",
       "      <td>6.196049299999999</td>\n",
       "      <td>2159817706</td>\n",
       "      <td>NaN</td>\n",
       "      <td>Happy Weekend ??</td>\n",
       "      <td>False</td>\n",
       "      <td>en</td>\n",
       "      <td>9,54E+17</td>\n",
       "      <td>19.01.2018 10:50</td>\n",
       "      <td>17</td>\n",
       "      <td>en</td>\n",
       "      <td>0.818342</td>\n",
       "      <td>Happy Weekend ?? #Metz #Lorraine https://t.co/...</td>\n",
       "      <td>services</td>\n",
       "      <td>Happy Weekend ?? Metz Lorraine</td>\n",
       "    </tr>\n",
       "    <tr>\n",
       "      <th>3</th>\n",
       "      <td>3</td>\n",
       "      <td>44008</td>\n",
       "      <td>69312</td>\n",
       "      <td>235610</td>\n",
       "      <td>49.248500</td>\n",
       "      <td>-123.1088</td>\n",
       "      <td>215292728</td>\n",
       "      <td>NaN</td>\n",
       "      <td>Good morning, Vancouver! :)</td>\n",
       "      <td>False</td>\n",
       "      <td>en</td>\n",
       "      <td>1,18E+18</td>\n",
       "      <td>02.10.2019 14:13</td>\n",
       "      <td>28</td>\n",
       "      <td>en</td>\n",
       "      <td>0.740567</td>\n",
       "      <td>Good morning, Vancouver! :) #Sunrise 07:13, no...</td>\n",
       "      <td>services</td>\n",
       "      <td>Good morning, Vancouver! Sunrise 07:13, noon 1...</td>\n",
       "    </tr>\n",
       "    <tr>\n",
       "      <th>4</th>\n",
       "      <td>4</td>\n",
       "      <td>53090</td>\n",
       "      <td>93493</td>\n",
       "      <td>319774</td>\n",
       "      <td>49.302954</td>\n",
       "      <td>7.466072</td>\n",
       "      <td>434326976</td>\n",
       "      <td>NaN</td>\n",
       "      <td>Not good, not bad...disappointing</td>\n",
       "      <td>False</td>\n",
       "      <td>en</td>\n",
       "      <td>1,19E+18</td>\n",
       "      <td>29.10.2019 16:55</td>\n",
       "      <td>34</td>\n",
       "      <td>en</td>\n",
       "      <td>0.881157</td>\n",
       "      <td>Not good, not bad...disappointing\\r\\n#MartinaP...</td>\n",
       "      <td>home</td>\n",
       "      <td>Not good, not bad...disappointing MartinaPadbe...</td>\n",
       "    </tr>\n",
       "  </tbody>\n",
       "</table>\n",
       "</div>"
      ],
      "text/plain": [
       "   Column1   ...1  Row.names   rowid       lat2                lon2  \\\n",
       "0        0  24121      26215  108414  51.329654  12.373450300000002   \n",
       "1        1   5037     120680  485238  52.308321          4.76523399   \n",
       "2        2  12531     156862  755079  49.104809   6.196049299999999   \n",
       "3        3  44008      69312  235610  49.248500           -123.1088   \n",
       "4        4  53090      93493  319774  49.302954            7.466072   \n",
       "\n",
       "      user_id  Column2                                              text2  \\\n",
       "0    29430823      NaN               (Senior) Digital Product Designer in   \n",
       "1   632420479      NaN  Jugging down my nd Liter of coffee for today. ...   \n",
       "2  2159817706      NaN                                   Happy Weekend ??   \n",
       "3   215292728      NaN                        Good morning, Vancouver! :)   \n",
       "4   434326976      NaN                  Not good, not bad...disappointing   \n",
       "\n",
       "   retweeted lang        id        created_at  noChar iso_lang_1    prob_1  \\\n",
       "0      False   ca  1,18E+18  26.09.2019 12:55      37         en  0.828701   \n",
       "1      False   en  3,27E+17  24.04.2013 14:25      57         en  0.965668   \n",
       "2      False   en  9,54E+17  19.01.2018 10:50      17         en  0.818342   \n",
       "3      False   en  1,18E+18  02.10.2019 14:13      28         en  0.740567   \n",
       "4      False   en  1,19E+18  29.10.2019 16:55      34         en  0.881157   \n",
       "\n",
       "                                               text1  classname  \\\n",
       "0  (Senior) Digital Product Designer in #Leipzig ...       work   \n",
       "1  Jugging down my 2nd Liter of coffee for today....  transport   \n",
       "2  Happy Weekend ?? #Metz #Lorraine https://t.co/...   services   \n",
       "3  Good morning, Vancouver! :) #Sunrise 07:13, no...   services   \n",
       "4  Not good, not bad...disappointing\\r\\n#MartinaP...       home   \n",
       "\n",
       "                                      text_processed  \n",
       "0  (Senior) Digital Product Designer in Leipzig (...  \n",
       "1  Jugging down my 2nd Liter of coffee for today....  \n",
       "2                     Happy Weekend ?? Metz Lorraine  \n",
       "3  Good morning, Vancouver! Sunrise 07:13, noon 1...  \n",
       "4  Not good, not bad...disappointing MartinaPadbe...  "
      ]
     },
     "execution_count": 7,
     "metadata": {},
     "output_type": "execute_result"
    }
   ],
   "source": [
    "print(df.shape)\n",
    "df.head()"
   ]
  },
  {
   "cell_type": "code",
   "execution_count": 3,
   "id": "e2695041-670e-4265-b2e3-293f18eb4739",
   "metadata": {},
   "outputs": [],
   "source": [
    "# transforming column with tweets to the list\n",
    "sentences = list(df['text1'].values) # text will be the input to the model"
   ]
  },
  {
   "cell_type": "code",
   "execution_count": 4,
   "id": "1119ea32-d2a5-44fd-a978-22036f41315e",
   "metadata": {},
   "outputs": [
    {
     "data": {
      "text/plain": [
       "'cuda:0'"
      ]
     },
     "execution_count": 4,
     "metadata": {},
     "output_type": "execute_result"
    }
   ],
   "source": [
    "# Do not forget to use GPU in Colab\n",
    "import torch\n",
    "device = \"cuda:0\" if torch.cuda.is_available() else \"cpu\"\n",
    "device"
   ]
  },
  {
   "cell_type": "code",
   "execution_count": 5,
   "id": "5d1b22a1-987b-4875-b035-496ddefc4646",
   "metadata": {},
   "outputs": [],
   "source": [
    "from transformers import pipeline"
   ]
  },
  {
   "cell_type": "code",
   "execution_count": 6,
   "id": "32c53ad6-e57b-470a-ac97-dfc5cd14b974",
   "metadata": {},
   "outputs": [
    {
     "data": {
      "application/vnd.jupyter.widget-view+json": {
       "model_id": "c046f04d2d6c44978c90df555eb9fcdf",
       "version_major": 2,
       "version_minor": 0
      },
      "text/plain": [
       "Downloading:   0%|          | 0.00/734 [00:00<?, ?B/s]"
      ]
     },
     "metadata": {},
     "output_type": "display_data"
    },
    {
     "data": {
      "application/vnd.jupyter.widget-view+json": {
       "model_id": "c7e2323a2fab4cdbb82b3b1d0e75edcc",
       "version_major": 2,
       "version_minor": 0
      },
      "text/plain": [
       "Downloading:   0%|          | 0.00/2.09G [00:00<?, ?B/s]"
      ]
     },
     "metadata": {},
     "output_type": "display_data"
    },
    {
     "name": "stderr",
     "output_type": "stream",
     "text": [
      "Some weights of the model checkpoint at joeddav/xlm-roberta-large-xnli were not used when initializing XLMRobertaForSequenceClassification: ['roberta.pooler.dense.bias', 'roberta.pooler.dense.weight']\n",
      "- This IS expected if you are initializing XLMRobertaForSequenceClassification from the checkpoint of a model trained on another task or with another architecture (e.g. initializing a BertForSequenceClassification model from a BertForPreTraining model).\n",
      "- This IS NOT expected if you are initializing XLMRobertaForSequenceClassification from the checkpoint of a model that you expect to be exactly identical (initializing a BertForSequenceClassification model from a BertForSequenceClassification model).\n"
     ]
    },
    {
     "data": {
      "application/vnd.jupyter.widget-view+json": {
       "model_id": "5fbe1c412649457bb19badf6c68d8fea",
       "version_major": 2,
       "version_minor": 0
      },
      "text/plain": [
       "Downloading:   0%|          | 0.00/25.0 [00:00<?, ?B/s]"
      ]
     },
     "metadata": {},
     "output_type": "display_data"
    },
    {
     "data": {
      "application/vnd.jupyter.widget-view+json": {
       "model_id": "2ae3c9ff4cf3493a9f8d50daf10340d0",
       "version_major": 2,
       "version_minor": 0
      },
      "text/plain": [
       "Downloading:   0%|          | 0.00/4.83M [00:00<?, ?B/s]"
      ]
     },
     "metadata": {},
     "output_type": "display_data"
    },
    {
     "data": {
      "application/vnd.jupyter.widget-view+json": {
       "model_id": "7e9259a98bed47cb8951fdb992e0c914",
       "version_major": 2,
       "version_minor": 0
      },
      "text/plain": [
       "Downloading:   0%|          | 0.00/150 [00:00<?, ?B/s]"
      ]
     },
     "metadata": {},
     "output_type": "display_data"
    },
    {
     "data": {
      "text/plain": [
       "{'sequence': 'It was a real inspirational work? https://t.co/dJyTH7EG2I',\n",
       " 'labels': ['Work job',\n",
       "  'Beliefs wishes kindness',\n",
       "  'Art shows performances',\n",
       "  'Delays passenger arrival departure',\n",
       "  'Weather season rain cold',\n",
       "  'Training secondment traineeship',\n",
       "  'Personality and relationships',\n",
       "  'Nature landscape wildlife',\n",
       "  'Reading books',\n",
       "  'Entertainment',\n",
       "  'Sleep waking up',\n",
       "  'Baby infant family',\n",
       "  'Outdoor sports recreation',\n",
       "  'Car petrol traffic',\n",
       "  'City sightseeing',\n",
       "  'Campus school university education study',\n",
       "  'Business industry research conferences and forums',\n",
       "  'Politics and affairs',\n",
       "  'Walk hiking',\n",
       "  'Dish recipy kitchen',\n",
       "  'Religion',\n",
       "  'Healthcare and well-being',\n",
       "  'Cycling bikes scooters',\n",
       "  'TV YouTube Netflix',\n",
       "  'Services brand retail',\n",
       "  'Airport waiting lounge',\n",
       "  'Office lunch colleagues department director',\n",
       "  'Groceries and shopping',\n",
       "  'Café restaurants',\n",
       "  'Fitness club'],\n",
       " 'scores': [0.7197009921073914,\n",
       "  0.026250706985592842,\n",
       "  0.016657104715704918,\n",
       "  0.015580754727125168,\n",
       "  0.014467982575297356,\n",
       "  0.013746077194809914,\n",
       "  0.01288540754467249,\n",
       "  0.012807916849851608,\n",
       "  0.012536493130028248,\n",
       "  0.011484984308481216,\n",
       "  0.011349504813551903,\n",
       "  0.0109234768897295,\n",
       "  0.00998628232628107,\n",
       "  0.009259640239179134,\n",
       "  0.008998512290418148,\n",
       "  0.008606597781181335,\n",
       "  0.00829747412353754,\n",
       "  0.007542607374489307,\n",
       "  0.007235956843942404,\n",
       "  0.007144068367779255,\n",
       "  0.006731283385306597,\n",
       "  0.006611567456275225,\n",
       "  0.006578766740858555,\n",
       "  0.006115030962973833,\n",
       "  0.005946859251707792,\n",
       "  0.004974841605871916,\n",
       "  0.004916999489068985,\n",
       "  0.004745824262499809,\n",
       "  0.004492667969316244,\n",
       "  0.003423771820962429]}"
      ]
     },
     "execution_count": 6,
     "metadata": {},
     "output_type": "execute_result"
    }
   ],
   "source": [
    "# Applying classifier to the list of tweets\n",
    "activity_classifier = pipeline(\"zero-shot-classification\", model = 'joeddav/xlm-roberta-large-xnli')\n",
    "activity_result = activity_classifier(list(sentences), candidate_labels = [\n",
    "'Sleep waking up', 'Baby infant family', 'Reading books', 'TV YouTube Netflix', 'Dish recipy kitchen',\n",
    "\n",
    "'Campus school university education study','Work job','Training secondment traineeship',\n",
    "'Office lunch colleagues department director','Business industry research conferences and forums', \n",
    "\n",
    "'Outdoor sports recreation','Nature landscape wildlife','Walk hiking','Weather season rain cold',\n",
    "\n",
    "'Delays passenger arrival departure','Cycling bikes scooters','Airport waiting lounge','Car petrol traffic',\n",
    "\n",
    "'Entertainment','Religion','Groceries and shopping','Healthcare and well-being',\n",
    "'Fitness club', 'Services brand retail','Café restaurants','City sightseeing','Art shows performances',\n",
    "\n",
    "'Politics and affairs','Personality and relationships','Beliefs wishes kindness'],)\n",
    "activity_result[10]"
   ]
  },
  {
   "cell_type": "code",
   "execution_count": 7,
   "id": "cb8d1e47-b11e-4f7d-b0af-ca0415dd1176",
   "metadata": {},
   "outputs": [
    {
     "data": {
      "text/plain": [
       "0"
      ]
     },
     "execution_count": 7,
     "metadata": {},
     "output_type": "execute_result"
    }
   ],
   "source": [
    "np.argmax(activity_result[0]['scores']) "
   ]
  },
  {
   "cell_type": "code",
   "execution_count": 8,
   "id": "1d3a6cc6-246f-4b47-b459-2660c2f2832f",
   "metadata": {},
   "outputs": [
    {
     "data": {
      "text/plain": [
       "'Work job'"
      ]
     },
     "execution_count": 8,
     "metadata": {},
     "output_type": "execute_result"
    }
   ],
   "source": [
    "# Leaving only first prediction for validation\n",
    "y_activity_pred = [result['labels'][np.argmax(result['scores'])] for result in activity_result]\n",
    "y_activity_pred[10]"
   ]
  },
  {
   "cell_type": "code",
   "execution_count": 9,
   "id": "6bf04adb-5705-4abd-a273-ce274c8315b0",
   "metadata": {},
   "outputs": [
    {
     "name": "stdout",
     "output_type": "stream",
     "text": [
      "['outdoors', 'services', 'other', 'outdoors', 'other', 'other', 'transport', 'other', 'other', 'other', 'work', 'transport', 'transport', 'home', 'other', 'outdoors', 'outdoors', 'transport', 'outdoors', 'other', 'other', 'other', 'services', 'outdoors', 'other', 'outdoors', 'services', 'services', 'outdoors', 'services', 'other', 'outdoors', 'services', 'services', 'home', 'other', 'services', 'services', 'outdoors', 'services', 'transport', 'home', 'other', 'home', 'services', 'work', 'home', 'services', 'outdoors', 'services', 'work', 'home', 'services', 'home', 'other', 'home', 'outdoors', 'outdoors', 'home', 'outdoors', 'home', 'transport', 'home', 'home', 'services', 'services', 'outdoors', 'services', 'services', 'services', 'services', 'other', 'services', 'outdoors', 'home', 'transport', 'transport', 'transport', 'transport', 'outdoors', 'transport', 'transport', 'transport', 'outdoors', 'services', 'outdoors', 'home', 'services', 'work', 'work', 'other', 'services', 'other', 'other', 'outdoors', 'services', 'work', 'other', 'work', 'services']\n"
     ]
    }
   ],
   "source": [
    "# Replacing predictions with general categories for validation\n",
    "for i in range(len(y_activity_pred)):\n",
    "  \n",
    "    if y_activity_pred[i] == 'Sleep waking up':\n",
    "        y_activity_pred[i] = 'home'    \n",
    "    if y_activity_pred[i] == 'Baby infant family':\n",
    "        y_activity_pred[i] = 'home' \n",
    "    if y_activity_pred[i] == 'Reading books':\n",
    "        y_activity_pred[i] = 'home' \n",
    "    if y_activity_pred[i] == 'TV YouTube Netflix':\n",
    "        y_activity_pred[i] = 'home' \n",
    "    if y_activity_pred[i] == 'Dish recipy kitchen':\n",
    "        y_activity_pred[i] = 'home' \n",
    "\n",
    "    if y_activity_pred[i] == 'Campus school university education study':\n",
    "        y_activity_pred[i] = 'work'\n",
    "    if y_activity_pred[i] == 'Work job':\n",
    "        y_activity_pred[i] = 'work'\n",
    "    if y_activity_pred[i] == 'Training secondment traineeship':\n",
    "        y_activity_pred[i] = 'work'\n",
    "    if y_activity_pred[i] == 'Office lunch colleagues department director':\n",
    "        y_activity_pred[i] = 'work'\n",
    "    if y_activity_pred[i] == 'Business industry research conferences and forums':\n",
    "        y_activity_pred[i] = 'work'\n",
    "\n",
    "    if y_activity_pred[i] == 'Outdoor sports recreation':\n",
    "        y_activity_pred[i] = 'outdoors'\n",
    "    if y_activity_pred[i] == 'Nature landscape wildlife':\n",
    "        y_activity_pred[i] = 'outdoors'\n",
    "    if y_activity_pred[i] == 'Weather season rain cold':\n",
    "        y_activity_pred[i] = 'outdoors'\n",
    "    if y_activity_pred[i] == 'Walk hiking':\n",
    "        y_activity_pred[i] = 'outdoors'\n",
    "\n",
    "    if y_activity_pred[i] == 'Delays passenger arrival departure':\n",
    "        y_activity_pred[i] = 'transport'\n",
    "    if y_activity_pred[i] == 'Cycling bikes scooters':\n",
    "        y_activity_pred[i] = 'transport'\n",
    "    if y_activity_pred[i] == 'Airport waiting lounge':\n",
    "        y_activity_pred[i] = 'transport'\n",
    "    if y_activity_pred[i] == 'Car petrol traffic':\n",
    "        y_activity_pred[i] = 'transport'\n",
    "        \n",
    "    if y_activity_pred[i] == 'Entertainment':\n",
    "        y_activity_pred[i] = 'services'\n",
    "    if y_activity_pred[i] == 'Religion':\n",
    "        y_activity_pred[i] = 'services'\n",
    "    if y_activity_pred[i] == 'Groceries and shopping':\n",
    "        y_activity_pred[i] = 'services'\n",
    "    if y_activity_pred[i] == 'Healthcare and well-being':\n",
    "        y_activity_pred[i] = 'services'\n",
    "    if y_activity_pred[i] == 'Fitness club':\n",
    "        y_activity_pred[i] = 'services'\n",
    "    if y_activity_pred[i] == 'Services brand retail':\n",
    "        y_activity_pred[i] = 'services'\n",
    "    if y_activity_pred[i] == 'Café restaurants':\n",
    "        y_activity_pred[i] = 'services'\n",
    "    if y_activity_pred[i] == 'City sightseeing':\n",
    "        y_activity_pred[i] = 'services'\n",
    "    if y_activity_pred[i] == 'Theatre shows performances':\n",
    "        y_activity_pred[i] = 'services'\n",
    "\n",
    "    if y_activity_pred[i] == 'Politics and affairs':\n",
    "        y_activity_pred[i] = 'other'\n",
    "    if y_activity_pred[i] == 'Personality and relationships':\n",
    "        y_activity_pred[i] = 'other'\n",
    "    if y_activity_pred[i] == 'Beliefs wishes kindness':\n",
    "        y_activity_pred[i] = 'other'\n",
    "  \n",
    "# print list\n",
    "print(y_activity_pred)"
   ]
  },
  {
   "cell_type": "code",
   "execution_count": 10,
   "id": "eaa7f2d5-05f3-4580-8753-39211b3822bc",
   "metadata": {},
   "outputs": [],
   "source": [
    "y_activity_true = list(df['classname'].values) # true labels (annotated by human)"
   ]
  },
  {
   "cell_type": "code",
   "execution_count": 11,
   "id": "39c85981-b59c-4d4d-82d7-2edadf5eb1d6",
   "metadata": {},
   "outputs": [],
   "source": [
    "from sklearn.metrics import classification_report, confusion_matrix"
   ]
  },
  {
   "cell_type": "code",
   "execution_count": 12,
   "id": "431ed5a0-ea3b-485b-9e50-5f9e495343e7",
   "metadata": {},
   "outputs": [
    {
     "name": "stdout",
     "output_type": "stream",
     "text": [
      "              precision    recall  f1-score   support\n",
      "\n",
      "        home       0.00      0.00      0.00         6\n",
      "       other       0.30      0.38      0.33        16\n",
      "    outdoors       0.20      0.40      0.27        10\n",
      "    services       0.65      0.40      0.50        42\n",
      "   transport       0.54      0.58      0.56        12\n",
      "        work       0.57      0.29      0.38        14\n",
      "\n",
      "    accuracy                           0.38       100\n",
      "   macro avg       0.38      0.34      0.34       100\n",
      "weighted avg       0.49      0.38      0.41       100\n",
      "\n"
     ]
    }
   ],
   "source": [
    "# Classification report for the general categories (1 row left unannotated, will be fixed)\n",
    "print(classification_report(y_activity_true, y_activity_pred))"
   ]
  },
  {
   "cell_type": "code",
   "execution_count": 31,
   "id": "2f03445a-7226-493a-aff4-f2a80b555693",
   "metadata": {},
   "outputs": [],
   "source": [
    "# Transforming list of predictions back to dataframe\n",
    "df_result = pd.DataFrame(activity_result)"
   ]
  },
  {
   "cell_type": "code",
   "execution_count": 32,
   "id": "ed84a845-cd57-40d6-b7b1-18028120e42f",
   "metadata": {},
   "outputs": [
    {
     "data": {
      "text/html": [
       "<div>\n",
       "<style scoped>\n",
       "    .dataframe tbody tr th:only-of-type {\n",
       "        vertical-align: middle;\n",
       "    }\n",
       "\n",
       "    .dataframe tbody tr th {\n",
       "        vertical-align: top;\n",
       "    }\n",
       "\n",
       "    .dataframe thead th {\n",
       "        text-align: right;\n",
       "    }\n",
       "</style>\n",
       "<table border=\"1\" class=\"dataframe\">\n",
       "  <thead>\n",
       "    <tr style=\"text-align: right;\">\n",
       "      <th></th>\n",
       "      <th>sequence</th>\n",
       "      <th>labels</th>\n",
       "      <th>scores</th>\n",
       "    </tr>\n",
       "  </thead>\n",
       "  <tbody>\n",
       "    <tr>\n",
       "      <th>0</th>\n",
       "      <td>(Senior) Digital Product Designer in #Leipzig ...</td>\n",
       "      <td>[Work job training, Discussion, Gym, Culture a...</td>\n",
       "      <td>[0.1974041610956192, 0.10330083966255188, 0.08...</td>\n",
       "    </tr>\n",
       "    <tr>\n",
       "      <th>1</th>\n",
       "      <td>Jugging down my 2nd Liter of coffee for today....</td>\n",
       "      <td>[Café restaurants drinks, Discussion, Culture ...</td>\n",
       "      <td>[0.11716744303703308, 0.09599005430936813, 0.0...</td>\n",
       "    </tr>\n",
       "    <tr>\n",
       "      <th>2</th>\n",
       "      <td>Happy Weekend ?? #Metz #Lorraine https://t.co/...</td>\n",
       "      <td>[City sightseeing, Culture and entertainment, ...</td>\n",
       "      <td>[0.18392527103424072, 0.1045927107334137, 0.06...</td>\n",
       "    </tr>\n",
       "    <tr>\n",
       "      <th>3</th>\n",
       "      <td>Good morning, Vancouver! :) #Sunrise 07:13, no...</td>\n",
       "      <td>[Discussion, Departures delays arrivals, City ...</td>\n",
       "      <td>[0.08371323347091675, 0.07710594683885574, 0.0...</td>\n",
       "    </tr>\n",
       "    <tr>\n",
       "      <th>4</th>\n",
       "      <td>Not good, not bad...disappointing\\r\\n#MartinaP...</td>\n",
       "      <td>[Discussion, Reading and listening, Departures...</td>\n",
       "      <td>[0.11798880994319916, 0.08938255906105042, 0.0...</td>\n",
       "    </tr>\n",
       "  </tbody>\n",
       "</table>\n",
       "</div>"
      ],
      "text/plain": [
       "                                            sequence  \\\n",
       "0  (Senior) Digital Product Designer in #Leipzig ...   \n",
       "1  Jugging down my 2nd Liter of coffee for today....   \n",
       "2  Happy Weekend ?? #Metz #Lorraine https://t.co/...   \n",
       "3  Good morning, Vancouver! :) #Sunrise 07:13, no...   \n",
       "4  Not good, not bad...disappointing\\r\\n#MartinaP...   \n",
       "\n",
       "                                              labels  \\\n",
       "0  [Work job training, Discussion, Gym, Culture a...   \n",
       "1  [Café restaurants drinks, Discussion, Culture ...   \n",
       "2  [City sightseeing, Culture and entertainment, ...   \n",
       "3  [Discussion, Departures delays arrivals, City ...   \n",
       "4  [Discussion, Reading and listening, Departures...   \n",
       "\n",
       "                                              scores  \n",
       "0  [0.1974041610956192, 0.10330083966255188, 0.08...  \n",
       "1  [0.11716744303703308, 0.09599005430936813, 0.0...  \n",
       "2  [0.18392527103424072, 0.1045927107334137, 0.06...  \n",
       "3  [0.08371323347091675, 0.07710594683885574, 0.0...  \n",
       "4  [0.11798880994319916, 0.08938255906105042, 0.0...  "
      ]
     },
     "execution_count": 32,
     "metadata": {},
     "output_type": "execute_result"
    }
   ],
   "source": [
    "# Checking predictions\n",
    "df_result.head()"
   ]
  },
  {
   "cell_type": "code",
   "execution_count": 33,
   "id": "f9372168-60fc-491e-b845-d13ed68dec11",
   "metadata": {},
   "outputs": [],
   "source": [
    "# Saving prediction results to csv\n",
    "df_result.to_csv('result.csv')"
   ]
  },
  {
   "cell_type": "code",
   "execution_count": null,
   "id": "0890b113-5992-451c-89df-1750be2cc4b0",
   "metadata": {},
   "outputs": [],
   "source": []
  }
 ],
 "metadata": {
  "kernelspec": {
   "display_name": "Python 3 (ipykernel)",
   "language": "python",
   "name": "python3"
  },
  "language_info": {
   "codemirror_mode": {
    "name": "ipython",
    "version": 3
   },
   "file_extension": ".py",
   "mimetype": "text/x-python",
   "name": "python",
   "nbconvert_exporter": "python",
   "pygments_lexer": "ipython3",
   "version": "3.9.13"
  }
 },
 "nbformat": 4,
 "nbformat_minor": 5
}
