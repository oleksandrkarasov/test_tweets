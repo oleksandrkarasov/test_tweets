{
 "cells": [
  {
   "cell_type": "code",
   "execution_count": 1,
   "metadata": {},
   "outputs": [],
   "source": [
    "# Packages for data analysis\n",
    "import pandas as pd\n",
    "import numpy as np\n",
    "\n",
    "# Packages for train/test dataset split\n",
    "from sklearn.model_selection import train_test_split"
   ]
  },
  {
   "cell_type": "code",
   "execution_count": 2,
   "metadata": {},
   "outputs": [
    {
     "name": "stdout",
     "output_type": "stream",
     "text": [
      "(100, 18)\n"
     ]
    },
    {
     "data": {
      "text/html": [
       "<div>\n",
       "<style scoped>\n",
       "    .dataframe tbody tr th:only-of-type {\n",
       "        vertical-align: middle;\n",
       "    }\n",
       "\n",
       "    .dataframe tbody tr th {\n",
       "        vertical-align: top;\n",
       "    }\n",
       "\n",
       "    .dataframe thead th {\n",
       "        text-align: right;\n",
       "    }\n",
       "</style>\n",
       "<table border=\"1\" class=\"dataframe\">\n",
       "  <thead>\n",
       "    <tr style=\"text-align: right;\">\n",
       "      <th></th>\n",
       "      <th>Column1</th>\n",
       "      <th>...1</th>\n",
       "      <th>Row.names</th>\n",
       "      <th>rowid</th>\n",
       "      <th>lat2</th>\n",
       "      <th>lon2</th>\n",
       "      <th>user_id</th>\n",
       "      <th>Column2</th>\n",
       "      <th>text2</th>\n",
       "      <th>retweeted</th>\n",
       "      <th>lang</th>\n",
       "      <th>id</th>\n",
       "      <th>created_at</th>\n",
       "      <th>noChar</th>\n",
       "      <th>iso_lang_1</th>\n",
       "      <th>prob_1</th>\n",
       "      <th>text1</th>\n",
       "      <th>classname</th>\n",
       "    </tr>\n",
       "  </thead>\n",
       "  <tbody>\n",
       "    <tr>\n",
       "      <th>0</th>\n",
       "      <td>0</td>\n",
       "      <td>24121</td>\n",
       "      <td>26215</td>\n",
       "      <td>108414</td>\n",
       "      <td>51.329654</td>\n",
       "      <td>12.373450300000002</td>\n",
       "      <td>29430823</td>\n",
       "      <td>NaN</td>\n",
       "      <td>(Senior) Digital Product Designer in</td>\n",
       "      <td>False</td>\n",
       "      <td>ca</td>\n",
       "      <td>1,18E+18</td>\n",
       "      <td>26.09.2019 12:55</td>\n",
       "      <td>37</td>\n",
       "      <td>en</td>\n",
       "      <td>0.828701</td>\n",
       "      <td>(Senior) Digital Product Designer in #Leipzig ...</td>\n",
       "      <td>work</td>\n",
       "    </tr>\n",
       "    <tr>\n",
       "      <th>1</th>\n",
       "      <td>1</td>\n",
       "      <td>5037</td>\n",
       "      <td>120680</td>\n",
       "      <td>485238</td>\n",
       "      <td>52.308321</td>\n",
       "      <td>4.76523399</td>\n",
       "      <td>632420479</td>\n",
       "      <td>NaN</td>\n",
       "      <td>Jugging down my nd Liter of coffee for today. ...</td>\n",
       "      <td>False</td>\n",
       "      <td>en</td>\n",
       "      <td>3,27E+17</td>\n",
       "      <td>24.04.2013 14:25</td>\n",
       "      <td>57</td>\n",
       "      <td>en</td>\n",
       "      <td>0.965668</td>\n",
       "      <td>Jugging down my 2nd Liter of coffee for today....</td>\n",
       "      <td>transport</td>\n",
       "    </tr>\n",
       "    <tr>\n",
       "      <th>2</th>\n",
       "      <td>2</td>\n",
       "      <td>12531</td>\n",
       "      <td>156862</td>\n",
       "      <td>755079</td>\n",
       "      <td>49.104809</td>\n",
       "      <td>6.196049299999999</td>\n",
       "      <td>2159817706</td>\n",
       "      <td>NaN</td>\n",
       "      <td>Happy Weekend ??</td>\n",
       "      <td>False</td>\n",
       "      <td>en</td>\n",
       "      <td>9,54E+17</td>\n",
       "      <td>19.01.2018 10:50</td>\n",
       "      <td>17</td>\n",
       "      <td>en</td>\n",
       "      <td>0.818342</td>\n",
       "      <td>Happy Weekend ?? #Metz #Lorraine https://t.co/...</td>\n",
       "      <td>services</td>\n",
       "    </tr>\n",
       "    <tr>\n",
       "      <th>3</th>\n",
       "      <td>3</td>\n",
       "      <td>44008</td>\n",
       "      <td>69312</td>\n",
       "      <td>235610</td>\n",
       "      <td>49.248500</td>\n",
       "      <td>-123.1088</td>\n",
       "      <td>215292728</td>\n",
       "      <td>NaN</td>\n",
       "      <td>Good morning, Vancouver! :)</td>\n",
       "      <td>False</td>\n",
       "      <td>en</td>\n",
       "      <td>1,18E+18</td>\n",
       "      <td>02.10.2019 14:13</td>\n",
       "      <td>28</td>\n",
       "      <td>en</td>\n",
       "      <td>0.740567</td>\n",
       "      <td>Good morning, Vancouver! :) #Sunrise 07:13, no...</td>\n",
       "      <td>services</td>\n",
       "    </tr>\n",
       "    <tr>\n",
       "      <th>4</th>\n",
       "      <td>4</td>\n",
       "      <td>53090</td>\n",
       "      <td>93493</td>\n",
       "      <td>319774</td>\n",
       "      <td>49.302954</td>\n",
       "      <td>7.466072</td>\n",
       "      <td>434326976</td>\n",
       "      <td>NaN</td>\n",
       "      <td>Not good, not bad...disappointing</td>\n",
       "      <td>False</td>\n",
       "      <td>en</td>\n",
       "      <td>1,19E+18</td>\n",
       "      <td>29.10.2019 16:55</td>\n",
       "      <td>34</td>\n",
       "      <td>en</td>\n",
       "      <td>0.881157</td>\n",
       "      <td>Not good, not bad...disappointing\\r\\n#MartinaP...</td>\n",
       "      <td>home</td>\n",
       "    </tr>\n",
       "  </tbody>\n",
       "</table>\n",
       "</div>"
      ],
      "text/plain": [
       "   Column1   ...1  Row.names   rowid       lat2                lon2  \\\n",
       "0        0  24121      26215  108414  51.329654  12.373450300000002   \n",
       "1        1   5037     120680  485238  52.308321          4.76523399   \n",
       "2        2  12531     156862  755079  49.104809   6.196049299999999   \n",
       "3        3  44008      69312  235610  49.248500           -123.1088   \n",
       "4        4  53090      93493  319774  49.302954            7.466072   \n",
       "\n",
       "      user_id  Column2                                              text2  \\\n",
       "0    29430823      NaN               (Senior) Digital Product Designer in   \n",
       "1   632420479      NaN  Jugging down my nd Liter of coffee for today. ...   \n",
       "2  2159817706      NaN                                   Happy Weekend ??   \n",
       "3   215292728      NaN                        Good morning, Vancouver! :)   \n",
       "4   434326976      NaN                  Not good, not bad...disappointing   \n",
       "\n",
       "   retweeted lang        id        created_at  noChar iso_lang_1    prob_1  \\\n",
       "0      False   ca  1,18E+18  26.09.2019 12:55      37         en  0.828701   \n",
       "1      False   en  3,27E+17  24.04.2013 14:25      57         en  0.965668   \n",
       "2      False   en  9,54E+17  19.01.2018 10:50      17         en  0.818342   \n",
       "3      False   en  1,18E+18  02.10.2019 14:13      28         en  0.740567   \n",
       "4      False   en  1,19E+18  29.10.2019 16:55      34         en  0.881157   \n",
       "\n",
       "                                               text1  classname  \n",
       "0  (Senior) Digital Product Designer in #Leipzig ...       work  \n",
       "1  Jugging down my 2nd Liter of coffee for today....  transport  \n",
       "2  Happy Weekend ?? #Metz #Lorraine https://t.co/...   services  \n",
       "3  Good morning, Vancouver! :) #Sunrise 07:13, no...   services  \n",
       "4  Not good, not bad...disappointing\\r\\n#MartinaP...       home  "
      ]
     },
     "execution_count": 2,
     "metadata": {},
     "output_type": "execute_result"
    }
   ],
   "source": [
    "df = pd.read_table('C:\\\\Users\\\\karasovo\\\\bert\\\\sample_annotated2.csv', sep=';')\n",
    "print(df.shape)\n",
    "df.head()"
   ]
  },
  {
   "cell_type": "code",
   "execution_count": 3,
   "metadata": {},
   "outputs": [],
   "source": [
    "sentences = list(df['text1'].values) # text will be the input to the model"
   ]
  },
  {
   "cell_type": "code",
   "execution_count": 4,
   "metadata": {},
   "outputs": [],
   "source": [
    "y_aspect_true = list(df['classname'].values) # true labels (aspect)"
   ]
  },
  {
   "cell_type": "code",
   "execution_count": null,
   "metadata": {},
   "outputs": [],
   "source": [
    "## This will enable your coLab to use GPU!!! \n",
    "import torch\n",
    "device = \"cuda:0\" if torch.cuda.is_available() else \"cpu\"\n",
    "device"
   ]
  },
  {
   "cell_type": "code",
   "execution_count": 5,
   "metadata": {},
   "outputs": [],
   "source": [
    "from transformers import pipeline"
   ]
  },
  {
   "cell_type": "code",
   "execution_count": 190,
   "metadata": {},
   "outputs": [
    {
     "data": {
      "text/plain": [
       "{'sequence': 'I just finished running 15.19 km in 1h:44m:00s with #Endomondo #endorphins https://t.co/IcOhWq0Qr2',\n",
       " 'labels': ['Outdoor sports recreation',\n",
       "  'Healthcare and well-being',\n",
       "  'Culture and entertainment',\n",
       "  'Cities and locations',\n",
       "  'Mountain sea weather',\n",
       "  'Chatting',\n",
       "  'Nature landscape wildlife',\n",
       "  'Indoor workout gym',\n",
       "  'Politics news affairs',\n",
       "  'Beliefs wishes kindness',\n",
       "  'Family Christmas',\n",
       "  'Services and retail',\n",
       "  'Home sleep waking up',\n",
       "  'Work job',\n",
       "  'Delays passengers arrival departure',\n",
       "  'Business industry research conferences and forums',\n",
       "  'Art shows performances',\n",
       "  'TV YouTube Netflix',\n",
       "  'Religion',\n",
       "  'Airport flight lounge',\n",
       "  'Office lunch colleagues department director',\n",
       "  'Dog walking',\n",
       "  'Training secondment traineeship',\n",
       "  'Campus school university education study',\n",
       "  'Café restaurants dinner',\n",
       "  'Reading books',\n",
       "  'Cycling bikes scooters',\n",
       "  'Groceries and shopping'],\n",
       " 'scores': [0.6085062026977539,\n",
       "  0.07061654329299927,\n",
       "  0.03387893736362457,\n",
       "  0.0266408808529377,\n",
       "  0.02322106994688511,\n",
       "  0.021802473813295364,\n",
       "  0.02007937617599964,\n",
       "  0.018256900832057,\n",
       "  0.014189253561198711,\n",
       "  0.013943718746304512,\n",
       "  0.01254245638847351,\n",
       "  0.011880832724273205,\n",
       "  0.011204767972230911,\n",
       "  0.01109965518116951,\n",
       "  0.010199464857578278,\n",
       "  0.010024050250649452,\n",
       "  0.009746940806508064,\n",
       "  0.009048821404576302,\n",
       "  0.009012704715132713,\n",
       "  0.006881112698465586,\n",
       "  0.006878658663481474,\n",
       "  0.006757560186088085,\n",
       "  0.006526187993586063,\n",
       "  0.006308320909738541,\n",
       "  0.006147013511508703,\n",
       "  0.005432201083749533,\n",
       "  0.004631717223674059,\n",
       "  0.004542188253253698]}"
      ]
     },
     "execution_count": 190,
     "metadata": {},
     "output_type": "execute_result"
    }
   ],
   "source": [
    "# Applying classifier to the list of tweets\n",
    "activity_classifier = pipeline(\"zero-shot-classification\", model = 'facebook/bart-large-mnli')\n",
    "activity_result = activity_classifier(list(sentences), candidate_labels = [\n",
    "'Home sleep waking up', 'Family Christmas','Reading books', 'TV YouTube Netflix',\n",
    "\n",
    "'Campus school university education study','Work job', 'Training secondment traineeship',\n",
    "'Office lunch colleagues department director','Business industry research conferences and forums',\n",
    "\n",
    "'Outdoor sports recreation','Nature landscape wildlife','Mountain sea weather','Dog walking',\n",
    "\n",
    "'Delays passengers arrival departure','Cycling bikes scooters','Airport flight lounge',\n",
    "\n",
    "'Culture and entertainment','Religion','Groceries and shopping','Healthcare and well-being',\n",
    "'Indoor workout gym', 'Services and retail','Café restaurants dinner','Cities and locations','Art shows performances',\n",
    "\n",
    "'Politics news affairs','Beliefs wishes kindness','Chatting'],)\n",
    "activity_result[10]"
   ]
  },
  {
   "cell_type": "code",
   "execution_count": 191,
   "metadata": {},
   "outputs": [
    {
     "data": {
      "text/plain": [
       "{'sequence': 'Good morning, Riyadh! :) #Sunrise 05:43, noon 11:45, sunset 17:47 UTC+3, September 25. Day length: 12h 4m.',\n",
       " 'labels': ['Home sleep waking up',\n",
       "  'Cities and locations',\n",
       "  'Chatting',\n",
       "  'Delays passengers arrival departure',\n",
       "  'Culture and entertainment',\n",
       "  'Beliefs wishes kindness',\n",
       "  'Healthcare and well-being',\n",
       "  'Mountain sea weather',\n",
       "  'Nature landscape wildlife',\n",
       "  'Office lunch colleagues department director',\n",
       "  'Café restaurants dinner',\n",
       "  'Religion',\n",
       "  'Airport flight lounge',\n",
       "  'Work job',\n",
       "  'Indoor workout gym',\n",
       "  'Campus school university education study',\n",
       "  'Services and retail',\n",
       "  'TV YouTube Netflix',\n",
       "  'Training secondment traineeship',\n",
       "  'Family Christmas',\n",
       "  'Business industry research conferences and forums',\n",
       "  'Cycling bikes scooters',\n",
       "  'Outdoor sports recreation',\n",
       "  'Politics news affairs',\n",
       "  'Art shows performances',\n",
       "  'Reading books',\n",
       "  'Dog walking',\n",
       "  'Groceries and shopping'],\n",
       " 'scores': [0.2151312232017517,\n",
       "  0.14941072463989258,\n",
       "  0.05957677215337753,\n",
       "  0.048940304666757584,\n",
       "  0.04275856539607048,\n",
       "  0.041838355362415314,\n",
       "  0.037798233330249786,\n",
       "  0.03569110110402107,\n",
       "  0.03256365656852722,\n",
       "  0.027838822454214096,\n",
       "  0.025378607213497162,\n",
       "  0.02308196760714054,\n",
       "  0.0215394739061594,\n",
       "  0.020648851990699768,\n",
       "  0.019460851326584816,\n",
       "  0.01941576786339283,\n",
       "  0.019387710839509964,\n",
       "  0.019091002643108368,\n",
       "  0.018993133679032326,\n",
       "  0.018956879153847694,\n",
       "  0.017805447801947594,\n",
       "  0.014659207314252853,\n",
       "  0.014561270363628864,\n",
       "  0.014423576183617115,\n",
       "  0.013714105822145939,\n",
       "  0.011681843549013138,\n",
       "  0.00966503657400608,\n",
       "  0.005987469106912613]}"
      ]
     },
     "execution_count": 191,
     "metadata": {},
     "output_type": "execute_result"
    }
   ],
   "source": [
    "# Checking predictions for the single tweet\n",
    "activity_result[5]"
   ]
  },
  {
   "cell_type": "code",
   "execution_count": 192,
   "metadata": {},
   "outputs": [],
   "source": [
    "# Transforming list of predictions back to dataframe\n",
    "df_result = pd.DataFrame(activity_result)"
   ]
  },
  {
   "cell_type": "code",
   "execution_count": 193,
   "metadata": {},
   "outputs": [
    {
     "data": {
      "text/html": [
       "<div>\n",
       "<style scoped>\n",
       "    .dataframe tbody tr th:only-of-type {\n",
       "        vertical-align: middle;\n",
       "    }\n",
       "\n",
       "    .dataframe tbody tr th {\n",
       "        vertical-align: top;\n",
       "    }\n",
       "\n",
       "    .dataframe thead th {\n",
       "        text-align: right;\n",
       "    }\n",
       "</style>\n",
       "<table border=\"1\" class=\"dataframe\">\n",
       "  <thead>\n",
       "    <tr style=\"text-align: right;\">\n",
       "      <th></th>\n",
       "      <th>sequence</th>\n",
       "      <th>labels</th>\n",
       "      <th>scores</th>\n",
       "    </tr>\n",
       "  </thead>\n",
       "  <tbody>\n",
       "    <tr>\n",
       "      <th>0</th>\n",
       "      <td>(Senior) Digital Product Designer in #Leipzig ...</td>\n",
       "      <td>[Work job, Chatting, Culture and entertainment...</td>\n",
       "      <td>[0.5525718331336975, 0.048335060477256775, 0.0...</td>\n",
       "    </tr>\n",
       "    <tr>\n",
       "      <th>1</th>\n",
       "      <td>Jugging down my 2nd Liter of coffee for today....</td>\n",
       "      <td>[Culture and entertainment, Cities and locatio...</td>\n",
       "      <td>[0.1096544936299324, 0.09830424934625626, 0.08...</td>\n",
       "    </tr>\n",
       "    <tr>\n",
       "      <th>2</th>\n",
       "      <td>Happy Weekend ?? #Metz #Lorraine https://t.co/...</td>\n",
       "      <td>[Cities and locations, Culture and entertainme...</td>\n",
       "      <td>[0.17791105806827545, 0.12168395519256592, 0.0...</td>\n",
       "    </tr>\n",
       "    <tr>\n",
       "      <th>3</th>\n",
       "      <td>Good morning, Vancouver! :) #Sunrise 07:13, no...</td>\n",
       "      <td>[Cities and locations, Home sleep waking up, M...</td>\n",
       "      <td>[0.24160616099834442, 0.15366628766059875, 0.0...</td>\n",
       "    </tr>\n",
       "    <tr>\n",
       "      <th>4</th>\n",
       "      <td>Not good, not bad...disappointing\\r\\n#MartinaP...</td>\n",
       "      <td>[Reading books, Chatting, Home sleep waking up...</td>\n",
       "      <td>[0.15553468465805054, 0.09845012426376343, 0.0...</td>\n",
       "    </tr>\n",
       "  </tbody>\n",
       "</table>\n",
       "</div>"
      ],
      "text/plain": [
       "                                            sequence  \\\n",
       "0  (Senior) Digital Product Designer in #Leipzig ...   \n",
       "1  Jugging down my 2nd Liter of coffee for today....   \n",
       "2  Happy Weekend ?? #Metz #Lorraine https://t.co/...   \n",
       "3  Good morning, Vancouver! :) #Sunrise 07:13, no...   \n",
       "4  Not good, not bad...disappointing\\r\\n#MartinaP...   \n",
       "\n",
       "                                              labels  \\\n",
       "0  [Work job, Chatting, Culture and entertainment...   \n",
       "1  [Culture and entertainment, Cities and locatio...   \n",
       "2  [Cities and locations, Culture and entertainme...   \n",
       "3  [Cities and locations, Home sleep waking up, M...   \n",
       "4  [Reading books, Chatting, Home sleep waking up...   \n",
       "\n",
       "                                              scores  \n",
       "0  [0.5525718331336975, 0.048335060477256775, 0.0...  \n",
       "1  [0.1096544936299324, 0.09830424934625626, 0.08...  \n",
       "2  [0.17791105806827545, 0.12168395519256592, 0.0...  \n",
       "3  [0.24160616099834442, 0.15366628766059875, 0.0...  \n",
       "4  [0.15553468465805054, 0.09845012426376343, 0.0...  "
      ]
     },
     "execution_count": 193,
     "metadata": {},
     "output_type": "execute_result"
    }
   ],
   "source": [
    "# Checking predictions\n",
    "df_result.head()"
   ]
  },
  {
   "cell_type": "code",
   "execution_count": 179,
   "metadata": {},
   "outputs": [],
   "source": [
    "# Saving prediction results to csv\n",
    "df_result.to_csv('result.csv')"
   ]
  },
  {
   "cell_type": "code",
   "execution_count": 194,
   "metadata": {},
   "outputs": [
    {
     "data": {
      "text/plain": [
       "0"
      ]
     },
     "execution_count": 194,
     "metadata": {},
     "output_type": "execute_result"
    }
   ],
   "source": [
    "np.argmax(activity_result[0]['scores']) "
   ]
  },
  {
   "cell_type": "code",
   "execution_count": 195,
   "metadata": {},
   "outputs": [
    {
     "data": {
      "text/plain": [
       "'Outdoor sports recreation'"
      ]
     },
     "execution_count": 195,
     "metadata": {},
     "output_type": "execute_result"
    }
   ],
   "source": [
    "# Leaving only first prediction for validation\n",
    "y_activity_pred = [result['labels'][np.argmax(result['scores'])] for result in activity_result]\n",
    "y_activity_pred[10]"
   ]
  },
  {
   "cell_type": "code",
   "execution_count": 196,
   "metadata": {},
   "outputs": [
    {
     "name": "stdout",
     "output_type": "stream",
     "text": [
      "['work', 'services', 'services', 'services', 'home', 'home', 'outdoors', 'outdoors', 'services', 'services', 'outdoors', 'work', 'other', 'services', 'other', 'services', 'other', 'services', 'other', 'services', 'other', 'other', 'services', 'work', 'transport', 'services', 'home', 'work', 'services', 'services', 'services', 'other', 'work', 'services', 'services', 'outdoors', 'other', 'services', 'home', 'other', 'other', 'services', 'services', 'services', 'services', 'transport', 'work', 'services', 'services', 'services', 'work', 'services', 'services', 'services', 'services', 'services', 'services', 'other', 'services', 'outdoors', 'other', 'transport', 'other', 'transport', 'services', 'services', 'other', 'outdoors', 'services', 'services', 'services', 'services', 'services', 'work', 'services', 'services', 'services', 'services', 'services', 'services', 'services', 'outdoors', 'outdoors', 'other', 'home', 'outdoors', 'outdoors', 'services', 'services', 'services', 'transport', 'other', 'services', 'transport', 'other', 'services', 'outdoors', 'services', 'outdoors', 'services']\n"
     ]
    }
   ],
   "source": [
    "# Replacing predictions with general categories for validation\n",
    "for i in range(len(y_activity_pred)):\n",
    "  \n",
    "    if y_activity_pred[i] == 'Home sleep waking up':\n",
    "        y_activity_pred[i] = 'home'\n",
    "    if y_activity_pred[i] == 'Reading books':\n",
    "        y_activity_pred[i] = 'home'\n",
    "    if y_activity_pred[i] == 'Family Christmas':\n",
    "        y_activity_pred[i] = 'home'\n",
    "    if y_activity_pred[i] == 'TV YouTube Netflix':\n",
    "        y_activity_pred[i] = 'home'      \n",
    "\n",
    "    if y_activity_pred[i] == 'Campus school university education study':\n",
    "        y_activity_pred[i] = 'work'\n",
    "    if y_activity_pred[i] == 'Work job':\n",
    "        y_activity_pred[i] = 'work'\n",
    "    if y_activity_pred[i] == 'Training secondment traineeship':\n",
    "        y_activity_pred[i] = 'work'\n",
    "    if y_activity_pred[i] == 'Office lunch colleagues department director':\n",
    "        y_activity_pred[i] = 'work'\n",
    "    if y_activity_pred[i] == 'Business industry research conferences and forums':\n",
    "        y_activity_pred[i] = 'work'\n",
    "\n",
    "    if y_activity_pred[i] == 'Outdoor sports recreation':\n",
    "        y_activity_pred[i] = 'outdoors'\n",
    "    if y_activity_pred[i] == 'Nature landscape wildlife':\n",
    "        y_activity_pred[i] = 'outdoors'\n",
    "    if y_activity_pred[i] == 'Mountain sea weather':\n",
    "        y_activity_pred[i] = 'outdoors'\n",
    "    if y_activity_pred[i] == 'Dog walking':\n",
    "        y_activity_pred[i] = 'outdoors'\n",
    "\n",
    "    if y_activity_pred[i] == 'Delays passengers arrival departure':\n",
    "        y_activity_pred[i] = 'transport'\n",
    "    if y_activity_pred[i] == 'Airport flight lounge':\n",
    "        y_activity_pred[i] = 'transport'\n",
    "    if y_activity_pred[i] == 'Cycling bikes scooters':\n",
    "        y_activity_pred[i] = 'transport'\n",
    "\n",
    "    if y_activity_pred[i] == 'Culture and entertainment':\n",
    "        y_activity_pred[i] = 'services'\n",
    "    if y_activity_pred[i] == 'Religion':\n",
    "        y_activity_pred[i] = 'services'\n",
    "    if y_activity_pred[i] == 'Groceries and shopping':\n",
    "        y_activity_pred[i] = 'services'\n",
    "    if y_activity_pred[i] == 'Healthcare and well-being':\n",
    "        y_activity_pred[i] = 'services'\n",
    "    if y_activity_pred[i] == 'Indoor workout gym':\n",
    "        y_activity_pred[i] = 'services'        \n",
    "    if y_activity_pred[i] == 'Services and retail':\n",
    "        y_activity_pred[i] = 'services'\n",
    "    if y_activity_pred[i] == 'Café restaurants dinner':\n",
    "        y_activity_pred[i] = 'services'\n",
    "    if y_activity_pred[i] == 'Cities and locations':\n",
    "        y_activity_pred[i] = 'services'\n",
    "    if y_activity_pred[i] == 'Art shows performances':\n",
    "        y_activity_pred[i] = 'services'\n",
    "\n",
    "    if y_activity_pred[i] == 'Politics news affairs':\n",
    "        y_activity_pred[i] = 'other'\n",
    "    if y_activity_pred[i] == 'Beliefs wishes kindness':\n",
    "        y_activity_pred[i] = 'other'\n",
    "    if y_activity_pred[i] == 'Chatting':\n",
    "        y_activity_pred[i] = 'other'\n",
    "  \n",
    "# print list\n",
    "print(y_activity_pred)"
   ]
  },
  {
   "cell_type": "code",
   "execution_count": 197,
   "metadata": {},
   "outputs": [],
   "source": [
    "y_activity_true = list(df['classname'].values) # true labels (annotated by human)"
   ]
  },
  {
   "cell_type": "code",
   "execution_count": 198,
   "metadata": {},
   "outputs": [],
   "source": [
    "from sklearn.metrics import classification_report, confusion_matrix"
   ]
  },
  {
   "cell_type": "code",
   "execution_count": 199,
   "metadata": {},
   "outputs": [
    {
     "name": "stdout",
     "output_type": "stream",
     "text": [
      "              precision    recall  f1-score   support\n",
      "\n",
      "        home       0.40      0.33      0.36         6\n",
      "       other       0.53      0.56      0.55        16\n",
      "    outdoors       0.33      0.33      0.33        12\n",
      "    services       0.60      0.82      0.69        38\n",
      "   transport       0.83      0.42      0.56        12\n",
      "        work       0.75      0.38      0.50        16\n",
      "\n",
      "    accuracy                           0.57       100\n",
      "   macro avg       0.57      0.47      0.50       100\n",
      "weighted avg       0.60      0.57      0.56       100\n",
      "\n"
     ]
    }
   ],
   "source": [
    "# Classification report for the general categories (1 row left unannotated, will be fixed)\n",
    "print(classification_report(y_activity_true, y_activity_pred))"
   ]
  },
  {
   "cell_type": "code",
   "execution_count": null,
   "metadata": {},
   "outputs": [],
   "source": []
  },
  {
   "cell_type": "code",
   "execution_count": null,
   "metadata": {},
   "outputs": [],
   "source": []
  }
 ],
 "metadata": {
  "kernelspec": {
   "display_name": "Python 3",
   "language": "python",
   "name": "python3"
  },
  "language_info": {
   "codemirror_mode": {
    "name": "ipython",
    "version": 3
   },
   "file_extension": ".py",
   "mimetype": "text/x-python",
   "name": "python",
   "nbconvert_exporter": "python",
   "pygments_lexer": "ipython3",
   "version": "3.8.5"
  }
 },
 "nbformat": 4,
 "nbformat_minor": 4
}
